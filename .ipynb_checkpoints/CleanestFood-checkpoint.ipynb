{
 "cells": [
  {
   "cell_type": "markdown",
   "metadata": {},
   "source": [
    "Quality of life is a big factor to see where I would want to live. One piece of that for me is having good food nearby. Where there's good food, there's other amenities. That's a trend that I've seen. Usually there'll be shopping, salons, and other general amenitites around places with resturants. Starting with the number of health code violations, we can generalize what neighborhoods have high quality amenities. My theory is that the cleaner the resturants, the better the rest of the amenities will be."
   ]
  },
  {
   "cell_type": "markdown",
   "metadata": {},
   "source": [
    "The metric I will use to determine the best neighborhood is finding out which neighborhood has the highest quality resturants. I'll be defining the quality of the resturant through the number of recorded health code violations, the lower the better. "
   ]
  },
  {
   "cell_type": "code",
   "execution_count": null,
   "metadata": {},
   "outputs": [],
   "source": [
    "import pandas as pd\n",
    "#import fpsnippets\n",
    "import numpy\n",
    "%matplotlib inline\n",
    "#importing all the libraries needed\n",
    "\n",
    "vio = pd.read_csv('ResturantViolations.csv', usecols = ['zip', 'facility_name'])\n",
    "#reads the csv file and converts it into a data frame\n",
    "vio = vio.query('zip > 15112  and zip < 15295')\n",
    "#filters the data to the range of Offical Pittsburgh Zipcodes\n",
    "\n",
    "vio.hist(column = \"zip\", grid = False, bins = 50, figsize = (30,10), range =[15112, 15150])\n",
    "vio.hist(column = \"zip\", grid = False, bins = 50, figsize = (30,10), range =[15200, 15249])\n",
    "vio.hist(column = \"zip\", grid = False, bins = 50, figsize = (30,10), range =[15250, 15295])\n",
    "#3 Different Graphs for better readability\n",
    "#Calls the dataframe.histogram method, with columns being the data in the 'zip' column\n",
    "#bins is the domain, range is the range of zipcodes\n",
    "#figsize is the literal size of the drawing"
   ]
  },
  {
   "cell_type": "code",
   "execution_count": null,
   "metadata": {},
   "outputs": [],
   "source": []
  },
  {
   "cell_type": "code",
   "execution_count": null,
   "metadata": {},
   "outputs": [],
   "source": [
    "count = vio['zip'].value_counts()\n",
    "\n",
    "count.plot(kind = 'bar')\n",
    "\n",
    "print(count.tail(15))"
   ]
  },
  {
   "cell_type": "markdown",
   "metadata": {},
   "source": [
    "Best Neighborhood/s: \n",
    "1. Downtown Pittsburgh\n",
    "2. Aspinwall\n",
    "3. McKeesport\n",
    "4. East Liberty\n",
    "5. Presto"
   ]
  },
  {
   "cell_type": "markdown",
   "metadata": {},
   "source": [
    "Worst Neighborhood/s: \n",
    "1. Oakland\n",
    "2. Strip District\n",
    "3. McKnight\n",
    "4. Crafton\n",
    "5. Hill District"
   ]
  },
  {
   "cell_type": "markdown",
   "metadata": {},
   "source": [
    "Overall we see a few things, Oakland and the Strip have, by far, the most healthcode violations. The Downtown zipcode also seems to have a suspiciously low number of violations. There are few zip codes that are not as highly populated, so in they'll naturally have fewer inspections and resturants. Using some human filtering, I'd probably have to say based off of everything from this data I'd want to live in East Liberty, but by the metric Downtown is the best place to live. On the other hand, I wouldn't want to live in any of the top worst based off of the number of healthcode violations."
   ]
  },
  {
   "cell_type": "markdown",
   "metadata": {},
   "source": [
    "There are a few issues with applying this dataset for my application. The biggest one I would say is the fact that everything is seperated by individual zipcodes. At first it seems like its not an issue, but there are areas that are almost purely residential that don't have many resturants, which would give it a higher score. Another issue is that proximity is something is not taken into account for the scores. There is also the issue of zipcodes being different sizes, and borders being non-exact. Throughout it all, there would have to be a standardized way to determine what is in what neighborhoods. "
   ]
  },
  {
   "cell_type": "code",
   "execution_count": null,
   "metadata": {},
   "outputs": [],
   "source": []
  }
 ],
 "metadata": {
  "kernelspec": {
   "display_name": "Python 3",
   "language": "python",
   "name": "python3"
  },
  "language_info": {
   "codemirror_mode": {
    "name": "ipython",
    "version": 3
   },
   "file_extension": ".py",
   "mimetype": "text/x-python",
   "name": "python",
   "nbconvert_exporter": "python",
   "pygments_lexer": "ipython3",
   "version": "3.8.3"
  }
 },
 "nbformat": 4,
 "nbformat_minor": 4
}
